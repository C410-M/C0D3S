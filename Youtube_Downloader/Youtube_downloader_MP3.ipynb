{
 "cells": [
  {
   "attachments": {},
   "cell_type": "markdown",
   "metadata": {},
   "source": [
    "# <font color='#7ED957'>**Baixar vídeos do Youtube**</font>"
   ]
  },
  {
   "cell_type": "code",
   "execution_count": 2,
   "metadata": {},
   "outputs": [
    {
     "data": {
      "text/plain": [
       "'d:\\\\Users\\\\Micro3\\\\Documents\\\\DEV CABEMIL\\\\Solid Iron - Diablo Spirit.mp4'"
      ]
     },
     "execution_count": 2,
     "metadata": {},
     "output_type": "execute_result"
    }
   ],
   "source": [
    "from pytube import YouTube\n",
    "\n",
    "youtube = YouTube('https://youtu.be/e-fNXcdDKNg')\n",
    "\n",
    "youtube.streams.get_highest_resolution().download()"
   ]
  },
  {
   "attachments": {},
   "cell_type": "markdown",
   "metadata": {},
   "source": [
    "### <font color='##C9E265'>**Baixar áudio e converter para .MP3**</font>\n",
    "\n",
    "ATENÇÃO: necessário passar o caminho da pasta, onde deseja salvar o arquivo.\n",
    "\n",
    "* **Exemplo: D:\\Users\\Micro3\\Downloads**"
   ]
  },
  {
   "cell_type": "code",
   "execution_count": 1,
   "metadata": {},
   "outputs": [
    {
     "name": "stdout",
     "output_type": "stream",
     "text": [
      "Enter the destination address (leave blank to save in current directory)\n",
      "Solid Iron - Diablo Spirit has been successfully downloaded.\n"
     ]
    }
   ],
   "source": [
    "from pytube import YouTube\n",
    "import os\n",
    "yt = YouTube(str(input(\"Digite o URL do vídeo do youtube: \\n \")))\n",
    "video = yt.streams.filter(only_audio=True).first()\n",
    "print(\"Digite o endereço de destino (deixe em branco para salvar no diretório atual)\")\n",
    "destination = str(input(\" \")) or '.'\n",
    "out_file = video.download(output_path=destination)\n",
    "base, ext = os.path.splitext(out_file)\n",
    "new_file = base + '.mp3'\n",
    "os.rename(out_file, new_file)\n",
    "print(yt.title + \" Áudio baixado com sucesso!\")"
   ]
  }
 ],
 "metadata": {
  "kernelspec": {
   "display_name": "Python 3",
   "language": "python",
   "name": "python3"
  },
  "language_info": {
   "codemirror_mode": {
    "name": "ipython",
    "version": 3
   },
   "file_extension": ".py",
   "mimetype": "text/x-python",
   "name": "python",
   "nbconvert_exporter": "python",
   "pygments_lexer": "ipython3",
   "version": "3.11.0"
  },
  "orig_nbformat": 4,
  "vscode": {
   "interpreter": {
    "hash": "30fd8c8d658ec9906b233d0001bcb07798b7cfa52a024d6ff7c1ed83930c9571"
   }
  }
 },
 "nbformat": 4,
 "nbformat_minor": 2
}
